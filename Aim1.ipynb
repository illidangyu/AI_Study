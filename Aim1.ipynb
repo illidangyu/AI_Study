{
  "nbformat": 4,
  "nbformat_minor": 0,
  "metadata": {
    "colab": {
      "name": "Untitled0.ipynb",
      "provenance": [],
      "authorship_tag": "ABX9TyPNF68LOfKSW+ZqoDnhQBLp",
      "include_colab_link": true
    },
    "kernelspec": {
      "name": "python3",
      "display_name": "Python 3"
    }
  },
  "cells": [
    {
      "cell_type": "markdown",
      "metadata": {
        "id": "view-in-github",
        "colab_type": "text"
      },
      "source": [
        "<a href=\"https://colab.research.google.com/github/illidangyu/AI_Study/blob/master/Aim1.ipynb\" target=\"_parent\"><img src=\"https://colab.research.google.com/assets/colab-badge.svg\" alt=\"Open In Colab\"/></a>"
      ]
    },
    {
      "cell_type": "markdown",
      "metadata": {
        "id": "bQIWLB9xlrpl",
        "colab_type": "text"
      },
      "source": [
        "#학습목표 세우기\n",
        "\n",
        "1. AI의 4가지(언어,음성,이미지,자율주행) 분야 조사\n",
        "  1. 언어 분야\n",
        "    * Google 번역기 : 인공 신경망 기반 언어 번역으로 번역 품질 향상\n",
        "  2. 음성 분야\n",
        "    * Siri : 단순한 작업부터 앱 실행, 시스템 설정 등의 개인 비서 역할 (자연어를 인식하여 분석하고 처리한 후 원하는 작업을 실행)\n",
        "  3. 이미지 분야\n",
        "    * 푸드Ai : 방대한 식품데이터베이스와 연결되어 딥러닝과 첨단 이미지 분류 기술을 바탕으로 음식의 재료, 요리방법을 설명\n",
        "  4. 자율주행 분야\n",
        "    * 자율주행 이동우체국 : 우체국 앱을 통하여 정해진 시간에 지정된장소로 이동하여 무인 접수 및 택배 받기 가능 (10월부터 한정지역 시범운용)\n",
        "2. 흥미를 끄는 분야\n",
        "  * 제일 흥미가 가는것은 음성 분야의 기술입니다. AI 음성 기술은 주변에서 쉽게 접근할수 있고 기계를 잘모르는 사람에게 거부감없이 편리하게 도움을 줄수있다고 생각합니다. \n",
        "3. 학습목표\n",
        "  * AI 기술과 원리를 파악하여 나만의 음성인식 인공지능을 개발해 보는 겁니다."
      ]
    }
  ]
}